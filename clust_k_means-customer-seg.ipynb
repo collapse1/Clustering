{
 "cells": [
  {
   "cell_type": "markdown",
   "id": "eb048b27-9c92-42e5-b967-e28c6cd6d66d",
   "metadata": {},
   "source": [
    "# Load Data From CSV File\n",
    "Before you can work with the data, you must use the URL to get the Cust_Segmentation.csv."
   ]
  },
  {
   "cell_type": "code",
   "execution_count": null,
   "id": "2563d62f-3fea-48ae-9df6-9df631ee35c1",
   "metadata": {},
   "outputs": [],
   "source": [
    "import pandas as pd\n",
    "cust_df = pd.read_csv(\"Cust_Segmentation.csv\")\n",
    "cust_df.head(5)"
   ]
  },
  {
   "cell_type": "markdown",
   "id": "390ce984-e960-4d6c-9dec-80be23ad26c1",
   "metadata": {},
   "source": [
    "# Pre-processing"
   ]
  },
  {
   "cell_type": "markdown",
   "id": "69cb9dbb-8035-40bc-9d46-37771b999f17",
   "metadata": {},
   "source": [
    "As you can see, Address in this dataset is a categorical variable. The k-means algorithm isn't directly applicable to categorical variables because the Euclidean distance function isn't really meaningful for discrete variables. So, let's drop this feature and run clustering."
   ]
  },
  {
   "cell_type": "code",
   "execution_count": null,
   "id": "ac237491-9740-4323-8feb-8c2161f99c8f",
   "metadata": {},
   "outputs": [],
   "source": [
    "df = cust_df.drop('Address', axis=1)\n",
    "df.head()"
   ]
  },
  {
   "cell_type": "markdown",
   "id": "5f0430f8-8a59-4196-aaa9-1b10d4c4dfad",
   "metadata": {},
   "source": [
    "## Normalizing over the standard deviation\n",
    "Now let's normalize the dataset. But why do we need normalization in the first place? Normalization is a statistical method that helps mathematical-based algorithms to interpret features with different magnitudes and distributions equally. We use StandardScaler() to normalize our dataset."
   ]
  },
  {
   "cell_type": "code",
   "execution_count": null,
   "id": "eab6cd7a-527e-431c-b7b7-82fc1ac16310",
   "metadata": {},
   "outputs": [],
   "source": [
    "from sklearn.preprocessing import StandardScaler\n",
    "import numpy as np\n",
    "X = df.values[:,1:]\n",
    "X = np.nan_to_num(X)\n",
    "Clus_dataSet = StandardScaler().fit_transform(X)\n",
    "Clus_dataSet"
   ]
  },
  {
   "cell_type": "markdown",
   "id": "178b438d-e62a-459a-a7ee-03f65d98cae5",
   "metadata": {},
   "source": [
    "# Modeling"
   ]
  },
  {
   "cell_type": "markdown",
   "id": "c1d03846-a18d-405f-b6a3-a7315cff0581",
   "metadata": {},
   "source": [
    "In our example (if we didn't have access to the k-means algorithm), it would be the same as guessing that each customer group would have certain age, income, education, etc, with multiple tests and experiments. However, using the K-means clustering we can do all this process much easier.\n",
    "\n",
    "Let's apply k-means on our dataset, and take look at cluster labels."
   ]
  },
  {
   "cell_type": "code",
   "execution_count": null,
   "id": "fb8f7e7c-929b-47e1-91f4-1eb0473dda58",
   "metadata": {},
   "outputs": [],
   "source": [
    "from sklearn.cluster import KMeans\n",
    "clusterNum = 3\n",
    "k_means = KMeans(init = \"k-means++\", n_clusters = clusterNum, n_init = 12)\n",
    "k_means.fit(X)\n",
    "labels = k_means.labels_\n",
    "print(labels)"
   ]
  },
  {
   "cell_type": "markdown",
   "id": "3040122e-0927-4d34-b486-e8862b87ec65",
   "metadata": {},
   "source": [
    "# Insights\n",
    "We assign the labels to each row in dataframe."
   ]
  },
  {
   "cell_type": "code",
   "execution_count": null,
   "id": "61c02ae4-e42d-4b5d-89e1-eeba5032a516",
   "metadata": {},
   "outputs": [],
   "source": [
    "df[\"Clus_km\"] = labels\n",
    "df.head(5)"
   ]
  },
  {
   "cell_type": "markdown",
   "id": "bf621d5f-5399-4ff7-942c-52b3bd7580af",
   "metadata": {},
   "source": [
    "We can easily check the centroid values by averaging the features in each cluster."
   ]
  },
  {
   "cell_type": "code",
   "execution_count": null,
   "id": "93866527-ad31-4fb4-8813-4ea8a342451d",
   "metadata": {},
   "outputs": [],
   "source": [
    "df.groupby(\"Clus_km\").mean()"
   ]
  },
  {
   "cell_type": "markdown",
   "id": "9f045179-2ba5-4293-9e60-09b4e5a8a16d",
   "metadata": {},
   "source": [
    "Now, let's look at the distribution of customers based on their age and income:"
   ]
  },
  {
   "cell_type": "code",
   "execution_count": null,
   "id": "92ea21cf-7be1-42bd-ab41-1f87a5d7977f",
   "metadata": {},
   "outputs": [],
   "source": [
    "import matplotlib.pyplot as plt\n",
    "\n",
    "area = np.pi * ( X[:, 1])**2  \n",
    "plt.scatter(X[:, 0], X[:, 3], s=area, c=labels, alpha=0.5)\n",
    "plt.xlabel('Age', fontsize=18)\n",
    "plt.ylabel('Income', fontsize=16)\n",
    "\n",
    "plt.show()"
   ]
  },
  {
   "cell_type": "code",
   "execution_count": null,
   "id": "54a63a12-8e36-4ea7-9a49-de0a79cb2f01",
   "metadata": {},
   "outputs": [],
   "source": [
    "from mpl_toolkits.mplot3d import Axes3D \n",
    "fig = plt.figure(1, figsize=(8, 6))\n",
    "plt.clf()\n",
    "ax = Axes3D(fig, rect=[0, 0, .95, 1], elev=48, azim=134)\n",
    "\n",
    "plt.cla()\n",
    "# plt.ylabel('Age', fontsize=18)\n",
    "# plt.xlabel('Income', fontsize=16)\n",
    "# plt.zlabel('Education', fontsize=16)\n",
    "ax.set_xlabel('Education')\n",
    "ax.set_ylabel('Age')\n",
    "ax.set_zlabel('Income')\n",
    "\n",
    "ax.scatter(X[:, 1], X[:, 0], X[:, 3], c= labels)"
   ]
  },
  {
   "cell_type": "markdown",
   "id": "c4fdad18-70d0-4f23-90c9-5565b4b8ec8a",
   "metadata": {},
   "source": [
    "k-means will partition your customers into mutually exclusive groups, for example, into 3 clusters. The customers in each cluster are similar to each other demographically. Now we can create a profile for each group, considering the common characteristics of each cluster. For example, the 3 clusters can be:\n",
    "### AFFLUENT, EDUCATED AND OLD AGED\n",
    "### MIDDLE AGED AND MIDDLE INCOME\n",
    "### YOUNG AND LOW INCOME"
   ]
  },
  {
   "cell_type": "code",
   "execution_count": null,
   "id": "09b161b3-2587-40b7-9ea7-9a3ca35cb46d",
   "metadata": {},
   "outputs": [],
   "source": []
  }
 ],
 "metadata": {
  "kernelspec": {
   "display_name": "Python 3 (ipykernel)",
   "language": "python",
   "name": "python3"
  },
  "language_info": {
   "codemirror_mode": {
    "name": "ipython",
    "version": 3
   },
   "file_extension": ".py",
   "mimetype": "text/x-python",
   "name": "python",
   "nbconvert_exporter": "python",
   "pygments_lexer": "ipython3",
   "version": "3.12.7"
  }
 },
 "nbformat": 4,
 "nbformat_minor": 5
}
