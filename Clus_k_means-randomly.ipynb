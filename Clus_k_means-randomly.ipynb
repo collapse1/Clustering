{
 "cells": [
  {
   "cell_type": "markdown",
   "id": "5b3566c3-fdaa-417b-a325-26acaf1fa2b0",
   "metadata": {},
   "source": [
    "# Import libraries\n",
    "## Let's first import the required libraries"
   ]
  },
  {
   "cell_type": "code",
   "execution_count": null,
   "id": "076d6230-ca88-4b0c-92ac-2350890b4e09",
   "metadata": {},
   "outputs": [],
   "source": [
    "import random\n",
    "import numpy as np\n",
    "import matplotlib.pyplot as plt\n",
    "from sklearn.cluster import KMeans\n",
    "from sklearn.datasets import make_blobs"
   ]
  },
  {
   "cell_type": "markdown",
   "id": "f6b213e3-76d7-48fc-a021-d80532b53722",
   "metadata": {},
   "source": [
    "# k-Means on a randomly generated dataset"
   ]
  },
  {
   "cell_type": "markdown",
   "id": "ce614567-d7eb-455c-a165-d6a2f0286c24",
   "metadata": {},
   "source": [
    "### First we need to set a random seed. Use numpy's random.seed() function, where the seed will be set to 1."
   ]
  },
  {
   "cell_type": "code",
   "execution_count": null,
   "id": "051075f0-e0b0-4767-9a69-5d8f249d19a2",
   "metadata": {},
   "outputs": [],
   "source": [
    "np.random.seed(1)"
   ]
  },
  {
   "cell_type": "markdown",
   "id": "c7517b73-8d55-49af-95b1-48778df7f193",
   "metadata": {},
   "source": [
    "## Next we will be making random clusters of points by using the make_blobs class. The make_blobs class can take in many inputs, but we will be using these specific ones.\n",
    "\n",
    "## Input\n",
    "\n",
    "n_samples: The total number of points equally divided among clusters.\n",
    "Value will be: 6000\n",
    "centers: The number of centers to generate, or the fixed center locations.\n",
    "Value will be: [[2,-1],[1,-2],[3,-4],[4,-3]]\n",
    "cluster_std: The standard deviation of the clusters.\n",
    "Value will be: 0.8\n",
    "\n",
    "## Output\n",
    "X: Array of shape [n_samples, n_features]. (Feature Matrix)\n",
    "The generated samples.\n",
    "y: Array of shape [n_samples]. (Response Vector)\n",
    "The integer labels for cluster membership of each sample."
   ]
  },
  {
   "cell_type": "code",
   "execution_count": null,
   "id": "1f3d8a51-7854-4117-8822-f89e2a45b5a9",
   "metadata": {},
   "outputs": [],
   "source": [
    "X,Y = make_blobs(n_samples = 6000 , centers = [[2,-1],[1,-2],[3,-4],[4,-3]], cluster_std = 0.8)"
   ]
  },
  {
   "cell_type": "markdown",
   "id": "e87b4da1-ca2e-4e7b-9e6b-73c83f965576",
   "metadata": {},
   "source": [
    "### Display the scatter plot of the randomly generated data."
   ]
  },
  {
   "cell_type": "code",
   "execution_count": null,
   "id": "62f657f5-3f62-43cc-8588-1be15509b114",
   "metadata": {},
   "outputs": [],
   "source": [
    "plt.scatter(X[:,0],X[:,1], marker=\".\")"
   ]
  },
  {
   "cell_type": "markdown",
   "id": "9e886135-24d5-4571-bf94-403ef488d556",
   "metadata": {},
   "source": [
    "## Setting up K-Means\n",
    "Now that we have our random data, let's set up our K-Means Clustering."
   ]
  },
  {
   "cell_type": "markdown",
   "id": "ef3c443b-4f90-4478-9cdf-d66c4f4a8b31",
   "metadata": {},
   "source": [
    "The KMeans class has many parameters that can be used, but we will be using these three:\n",
    "\n",
    "### init:Initialization method of the centroids.\n",
    "Value will be: \"k-means++\"\n",
    "k-means++: Selects initial cluster centers for k-mean clustering in a smart way to speed up convergence.\n",
    "### n_clusters: The number of clusters to form as well as the number of centroids to generate.\n",
    "Value will be: 4 (since we have 4 centers)\n",
    "### n_init: Number of time the k-means algorithm will be run with different centroid seeds. The final results will be the best output of n_init consecutive runs in terms of inertia.\n",
    "Value will be: 13\n",
    "Initialize KMeans with these parameters, where the output parameter is called k_means."
   ]
  },
  {
   "cell_type": "code",
   "execution_count": null,
   "id": "37502528-06d3-4f6c-bb54-0da952545e48",
   "metadata": {},
   "outputs": [],
   "source": [
    "k_means = KMeans(init='k-means++',n_clusters=4,n_init=13)"
   ]
  },
  {
   "cell_type": "markdown",
   "id": "7b8cedb6-a154-46bc-be9e-2e003ab41f40",
   "metadata": {},
   "source": [
    "Now let's fit the KMeans model with the feature matrix we created above, X "
   ]
  },
  {
   "cell_type": "code",
   "execution_count": null,
   "id": "2557fad4-dd7e-41f6-88e7-03830b48ca48",
   "metadata": {},
   "outputs": [],
   "source": [
    "k_means.fit(X)"
   ]
  },
  {
   "cell_type": "markdown",
   "id": "0928471b-f743-4eb4-a657-e8ca13544907",
   "metadata": {},
   "source": [
    "Now let's grab the labels for each point in the model using KMeans' .labels_ attribute and save it as k_means_labels ."
   ]
  },
  {
   "cell_type": "code",
   "execution_count": null,
   "id": "1fca8825-11f8-423f-a286-6c0eeacf52c0",
   "metadata": {},
   "outputs": [],
   "source": [
    "k_means_labels = k_means.labels_\n",
    "k_means_labels"
   ]
  },
  {
   "cell_type": "markdown",
   "id": "0b628f41-4ae0-4249-abde-f77951c4c34f",
   "metadata": {},
   "source": [
    "We will also get the coordinates of the cluster centers using KMeans' .cluster_centers_ and save it as k_means_cluster_centers ."
   ]
  },
  {
   "cell_type": "code",
   "execution_count": null,
   "id": "9f0158e4-fc5e-4fcd-bd79-f315028a15f9",
   "metadata": {},
   "outputs": [],
   "source": [
    "k_means_cluster_centers = k_means.cluster_centers_"
   ]
  },
  {
   "cell_type": "markdown",
   "id": "51a8c8d5-dcee-44d2-8fc4-04f16e0eb5a2",
   "metadata": {},
   "source": [
    "# Creating the Visual Plot\n",
    "So now that we have the random data generated and the KMeans model initialized, let's plot them and see what it looks like!"
   ]
  },
  {
   "cell_type": "markdown",
   "id": "9e243a00-e8f3-4228-9f31-f0f6edaee0b8",
   "metadata": {},
   "source": [
    "Please read through the code and comments to understand how to plot the model."
   ]
  },
  {
   "cell_type": "code",
   "execution_count": null,
   "id": "b5603f46-4aa5-43b0-97b7-8f08595b0946",
   "metadata": {},
   "outputs": [],
   "source": [
    "# Initialize the plot with the specified dimensions.\n",
    "fig = plt.figure(figsize=(8,6))\n",
    "\n",
    "# Colors uses a color map, which will produce an array of colors based on\n",
    "# the number of labels there are. We use set(k_means_labels) to get the\n",
    "# unique labels.\n",
    "colors = plt.cm.Spectral(np.linspace(0, 1, len(set(k_means_labels))))\n",
    "\n",
    "#create a plot\n",
    "ax = fig.add_subplot(1,1,1)\n",
    "\n",
    "# For loop that plots the data points and centroids.\n",
    "# k will range from 0-3, which will match the possible clusters that each\n",
    "# data point is in.\n",
    "for k,col in zip(range(len(k_means_labels)),colors):\n",
    "    \n",
    "    # Create a list of all data points, where the data points that are \n",
    "    # in the cluster (ex. cluster 0) are labeled as true, else they are\n",
    "    # labeled as false.\n",
    "    my_members = (k_means_labels == k)\n",
    "\n",
    "    # Define the centroid, or cluster center.\n",
    "    cluster_center = k_means_cluster_centers[k]\n",
    "\n",
    "    # Plots the datapoints with color col.\n",
    "    ax.plot(X[my_members, 0],X[my_members ,1],'w',markerfacecolor=col , marker='.')\n",
    "\n",
    "    # Plots the centroids with specified color, but with a greener outline\n",
    "    ax.plot(cluster_center[0],cluster_center[1],'o',markerfacecolor=col ,markeredgecolor='g',markersize=3)\n",
    "\n",
    "# Title of the plot\n",
    "ax.set_title('k_means')\n",
    "\n",
    "# Remove x-axis ticks\n",
    "ax.set_xticks(())\n",
    "\n",
    "# Remove y-axis ticks\n",
    "ax.set_yticks(())\n",
    "\n",
    "# Show the plot\n",
    "plt.show()"
   ]
  },
  {
   "cell_type": "code",
   "execution_count": null,
   "id": "e76f33d9-e434-4d9b-b958-a48a0dd77d24",
   "metadata": {},
   "outputs": [],
   "source": []
  }
 ],
 "metadata": {
  "kernelspec": {
   "display_name": "Python 3 (ipykernel)",
   "language": "python",
   "name": "python3"
  },
  "language_info": {
   "codemirror_mode": {
    "name": "ipython",
    "version": 3
   },
   "file_extension": ".py",
   "mimetype": "text/x-python",
   "name": "python",
   "nbconvert_exporter": "python",
   "pygments_lexer": "ipython3",
   "version": "3.12.7"
  }
 },
 "nbformat": 4,
 "nbformat_minor": 5
}
